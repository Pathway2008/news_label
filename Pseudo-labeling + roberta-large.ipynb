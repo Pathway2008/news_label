{
 "cells": [
  {
   "cell_type": "code",
   "execution_count": 1,
   "metadata": {},
   "outputs": [
    {
     "name": "stdout",
     "output_type": "stream",
     "text": [
      "True\n",
      "1\n",
      "NVIDIA GeForce RTX 3090\n"
     ]
    }
   ],
   "source": [
    "import torch\n",
    "import pandas as pd\n",
    "from transformers import RobertaTokenizer, RobertaForSequenceClassification, Trainer, TrainingArguments\n",
    "import os\n",
    "\n",
    "print(torch.cuda.is_available())\n",
    "print(torch.cuda.device_count())\n",
    "print(torch.cuda.get_device_name(0))"
   ]
  },
  {
   "cell_type": "code",
   "execution_count": 2,
   "metadata": {},
   "outputs": [
    {
     "name": "stdout",
     "output_type": "stream",
     "text": [
      "GPU is available!\n"
     ]
    }
   ],
   "source": [
    "if torch.cuda.is_available():\n",
    "    print(\"GPU is available!\")\n",
    "    device = torch.device(\"cuda\")\n",
    "else:\n",
    "    print(\"GPU is not available. Using CPU.\")\n",
    "    device = torch.device(\"cpu\")"
   ]
  },
  {
   "cell_type": "code",
   "execution_count": 3,
   "metadata": {},
   "outputs": [],
   "source": [
    "train_data = pd.read_csv(\"news8.csv\")\n",
    "train_data['full_text'] = train_data['title'] + \" \" + train_data['contents']\n",
    "\n",
    "test_data = pd.read_csv(\"./news_test.csv\")\n",
    "test_data['full_text'] = test_data['title'] + \" \" + test_data['contents']"
   ]
  },
  {
   "cell_type": "code",
   "execution_count": 4,
   "metadata": {},
   "outputs": [],
   "source": [
    "train_label = train_data['category']"
   ]
  },
  {
   "cell_type": "code",
   "execution_count": 5,
   "metadata": {},
   "outputs": [
    {
     "name": "stderr",
     "output_type": "stream",
     "text": [
      "Some weights of RobertaForSequenceClassification were not initialized from the model checkpoint at roberta-large and are newly initialized: ['classifier.out_proj.bias', 'classifier.out_proj.weight', 'classifier.dense.bias', 'classifier.dense.weight']\n",
      "You should probably TRAIN this model on a down-stream task to be able to use it for predictions and inference.\n"
     ]
    }
   ],
   "source": [
    "tokenizer = RobertaTokenizer.from_pretrained(\"roberta-large\")\n",
    "model = RobertaForSequenceClassification.from_pretrained(\"roberta-large\", num_labels=6)"
   ]
  },
  {
   "cell_type": "code",
   "execution_count": 6,
   "metadata": {},
   "outputs": [],
   "source": [
    "train_encodings = tokenizer(train_data['full_text'].tolist(), truncation=True, padding=True, max_length=512)\n",
    "test_encodings = tokenizer(test_data['full_text'].tolist(), truncation=True, padding=True, max_length=512)"
   ]
  },
  {
   "cell_type": "code",
   "execution_count": 7,
   "metadata": {},
   "outputs": [],
   "source": [
    "class NewsDataset(torch.utils.data.Dataset):\n",
    "    def __init__(self, encodings, labels=None):\n",
    "        self.encodings = encodings\n",
    "        self.labels = labels\n",
    "\n",
    "    def __getitem__(self, idx):\n",
    "        item = {key: torch.tensor(val[idx]) for key, val in self.encodings.items()}\n",
    "        if self.labels is not None:\n",
    "            item['labels'] = torch.tensor(self.labels[idx])\n",
    "        return item\n",
    "\n",
    "    def __len__(self):\n",
    "        return len(self.encodings.input_ids)"
   ]
  },
  {
   "cell_type": "code",
   "execution_count": 8,
   "metadata": {},
   "outputs": [],
   "source": [
    "train_dataset = NewsDataset(train_encodings, train_label)\n",
    "test_dataset = NewsDataset(test_encodings)"
   ]
  },
  {
   "cell_type": "code",
   "execution_count": 9,
   "metadata": {},
   "outputs": [],
   "source": [
    "training_args = TrainingArguments(\n",
    "    output_dir='./roberta',\n",
    "    per_device_train_batch_size=8,\n",
    "    per_device_eval_batch_size=32,  # 예측 시 사용할 배치 크기를 늘립니다. GPU 메모리에 따라 조정해야 합니다.\n",
    "    num_train_epochs=2,\n",
    "    logging_dir='./logs',\n",
    "    no_cuda=False  # Ensure GPU is used\n",
    ")"
   ]
  },
  {
   "cell_type": "code",
   "execution_count": 10,
   "metadata": {},
   "outputs": [],
   "source": [
    "trainer = Trainer(\n",
    "    model=model,\n",
    "    args=training_args,\n",
    "    train_dataset=train_dataset,\n",
    ")"
   ]
  },
  {
   "cell_type": "code",
   "execution_count": 11,
   "metadata": {},
   "outputs": [
    {
     "name": "stderr",
     "output_type": "stream",
     "text": [
      "Failed to detect the name of this notebook, you can set it manually with the WANDB_NOTEBOOK_NAME environment variable to enable code saving.\n",
      "\u001b[34m\u001b[1mwandb\u001b[0m: Currently logged in as: \u001b[33mmunicef\u001b[0m (\u001b[33msrgan\u001b[0m). Use \u001b[1m`wandb login --relogin`\u001b[0m to force relogin\n"
     ]
    },
    {
     "data": {
      "text/html": [
       "wandb version 0.15.11 is available!  To upgrade, please run:\n",
       " $ pip install wandb --upgrade"
      ],
      "text/plain": [
       "<IPython.core.display.HTML object>"
      ]
     },
     "metadata": {},
     "output_type": "display_data"
    },
    {
     "data": {
      "text/html": [
       "Tracking run with wandb version 0.13.5"
      ],
      "text/plain": [
       "<IPython.core.display.HTML object>"
      ]
     },
     "metadata": {},
     "output_type": "display_data"
    },
    {
     "data": {
      "text/html": [
       "Run data is saved locally in <code>c:\\Users\\User\\Desktop\\1_dacon\\LABEL\\wandb\\run-20230925_092842-11csekeh</code>"
      ],
      "text/plain": [
       "<IPython.core.display.HTML object>"
      ]
     },
     "metadata": {},
     "output_type": "display_data"
    },
    {
     "data": {
      "text/html": [
       "Syncing run <strong><a href=\"https://wandb.ai/srgan/huggingface/runs/11csekeh\" target=\"_blank\">sandy-sea-21</a></strong> to <a href=\"https://wandb.ai/srgan/huggingface\" target=\"_blank\">Weights & Biases</a> (<a href=\"https://wandb.me/run\" target=\"_blank\">docs</a>)<br/>"
      ],
      "text/plain": [
       "<IPython.core.display.HTML object>"
      ]
     },
     "metadata": {},
     "output_type": "display_data"
    },
    {
     "data": {
      "application/vnd.jupyter.widget-view+json": {
       "model_id": "bbf73fc656ee407e97933b6cd41ed23d",
       "version_major": 2,
       "version_minor": 0
      },
      "text/plain": [
       "A Jupyter Widget"
      ]
     },
     "metadata": {},
     "output_type": "display_data"
    },
    {
     "name": "stdout",
     "output_type": "stream",
     "text": [
      "{'loss': 0.7237, 'learning_rate': 4e-05, 'epoch': 0.4}\n",
      "{'loss': 0.5271, 'learning_rate': 3e-05, 'epoch': 0.8}\n",
      "{'loss': 0.4205, 'learning_rate': 2e-05, 'epoch': 1.2}\n",
      "{'loss': 0.3236, 'learning_rate': 1e-05, 'epoch': 1.6}\n",
      "{'loss': 0.2451, 'learning_rate': 0.0, 'epoch': 2.0}\n",
      "{'train_runtime': 1524.2819, 'train_samples_per_second': 13.121, 'train_steps_per_second': 1.64, 'train_loss': 0.44797908020019533, 'epoch': 2.0}\n"
     ]
    },
    {
     "data": {
      "text/plain": [
       "TrainOutput(global_step=2500, training_loss=0.44797908020019533, metrics={'train_runtime': 1524.2819, 'train_samples_per_second': 13.121, 'train_steps_per_second': 1.64, 'train_loss': 0.44797908020019533, 'epoch': 2.0})"
      ]
     },
     "execution_count": 11,
     "metadata": {},
     "output_type": "execute_result"
    }
   ],
   "source": [
    "trainer.train()"
   ]
  },
  {
   "cell_type": "code",
   "execution_count": 12,
   "metadata": {},
   "outputs": [
    {
     "data": {
      "application/vnd.jupyter.widget-view+json": {
       "model_id": "d6b9ed7add6c4afbb415df058f88c761",
       "version_major": 2,
       "version_minor": 0
      },
      "text/plain": [
       "A Jupyter Widget"
      ]
     },
     "metadata": {},
     "output_type": "display_data"
    }
   ],
   "source": [
    "# Predicting categories for the test data\n",
    "predictions = trainer.predict(test_dataset).predictions.argmax(-1)\n",
    "test_data['predicted_category'] = predictions"
   ]
  },
  {
   "cell_type": "code",
   "execution_count": 13,
   "metadata": {},
   "outputs": [
    {
     "data": {
      "text/html": [
       "<div>\n",
       "<style scoped>\n",
       "    .dataframe tbody tr th:only-of-type {\n",
       "        vertical-align: middle;\n",
       "    }\n",
       "\n",
       "    .dataframe tbody tr th {\n",
       "        vertical-align: top;\n",
       "    }\n",
       "\n",
       "    .dataframe thead th {\n",
       "        text-align: right;\n",
       "    }\n",
       "</style>\n",
       "<table border=\"1\" class=\"dataframe\">\n",
       "  <thead>\n",
       "    <tr style=\"text-align: right;\">\n",
       "      <th></th>\n",
       "      <th>id</th>\n",
       "      <th>title</th>\n",
       "      <th>contents</th>\n",
       "      <th>full_text</th>\n",
       "      <th>predicted_category</th>\n",
       "    </tr>\n",
       "  </thead>\n",
       "  <tbody>\n",
       "    <tr>\n",
       "      <th>0</th>\n",
       "      <td>NEWS_10000</td>\n",
       "      <td>Yahoo! buys email search firm</td>\n",
       "      <td>Yahoo! Inc has bought Stata Labs Inc, maker of...</td>\n",
       "      <td>Yahoo! buys email search firm Yahoo! Inc has b...</td>\n",
       "      <td>4</td>\n",
       "    </tr>\n",
       "    <tr>\n",
       "      <th>1</th>\n",
       "      <td>NEWS_10001</td>\n",
       "      <td>MCI reports \\$3.4 billion loss</td>\n",
       "      <td>WASHINGTON - MCI Inc. on Thursday reported a \\...</td>\n",
       "      <td>MCI reports \\$3.4 billion loss WASHINGTON - MC...</td>\n",
       "      <td>4</td>\n",
       "    </tr>\n",
       "    <tr>\n",
       "      <th>2</th>\n",
       "      <td>NEWS_10002</td>\n",
       "      <td>Musharraf #39;s choice elected as new PM</td>\n",
       "      <td>Pakistan #39;s parliament elected Shaukat Aziz...</td>\n",
       "      <td>Musharraf #39;s choice elected as new PM Pakis...</td>\n",
       "      <td>5</td>\n",
       "    </tr>\n",
       "    <tr>\n",
       "      <th>3</th>\n",
       "      <td>NEWS_10003</td>\n",
       "      <td>Mozilla launching second act with e-mail client</td>\n",
       "      <td>Editor #39;s Summary: The Mozilla Foundation h...</td>\n",
       "      <td>Mozilla launching second act with e-mail clien...</td>\n",
       "      <td>4</td>\n",
       "    </tr>\n",
       "    <tr>\n",
       "      <th>4</th>\n",
       "      <td>NEWS_10004</td>\n",
       "      <td>The Power of Cities</td>\n",
       "      <td>//www.huffingtonpost.com/entry/the-power-of-ci...</td>\n",
       "      <td>The Power of Cities //www.huffingtonpost.com/e...</td>\n",
       "      <td>2</td>\n",
       "    </tr>\n",
       "    <tr>\n",
       "      <th>...</th>\n",
       "      <td>...</td>\n",
       "      <td>...</td>\n",
       "      <td>...</td>\n",
       "      <td>...</td>\n",
       "      <td>...</td>\n",
       "    </tr>\n",
       "    <tr>\n",
       "      <th>49995</th>\n",
       "      <td>NEWS_59995</td>\n",
       "      <td>Dolphins Break Through, Rip Rams For First Win</td>\n",
       "      <td>But that #39;s OK. Because after a 31-14 rout ...</td>\n",
       "      <td>Dolphins Break Through, Rip Rams For First Win...</td>\n",
       "      <td>3</td>\n",
       "    </tr>\n",
       "    <tr>\n",
       "      <th>49996</th>\n",
       "      <td>NEWS_59996</td>\n",
       "      <td>After Steep Drop, Price of Oil Rises</td>\n",
       "      <td>The freefall in oil prices ended Monday on a s...</td>\n",
       "      <td>After Steep Drop, Price of Oil Rises The freef...</td>\n",
       "      <td>0</td>\n",
       "    </tr>\n",
       "    <tr>\n",
       "      <th>49997</th>\n",
       "      <td>NEWS_59997</td>\n",
       "      <td>Pro football: Culpepper puts on a show</td>\n",
       "      <td>To say Daunte Culpepper was a little frustrate...</td>\n",
       "      <td>Pro football: Culpepper puts on a show To say ...</td>\n",
       "      <td>3</td>\n",
       "    </tr>\n",
       "    <tr>\n",
       "      <th>49998</th>\n",
       "      <td>NEWS_59998</td>\n",
       "      <td>Albertsons on the Rebound</td>\n",
       "      <td>The No. 2 grocer reports double-digit gains in...</td>\n",
       "      <td>Albertsons on the Rebound The No. 2 grocer rep...</td>\n",
       "      <td>0</td>\n",
       "    </tr>\n",
       "    <tr>\n",
       "      <th>49999</th>\n",
       "      <td>NEWS_59999</td>\n",
       "      <td>Cassini Craft Spies Saturn Moon Dione (AP)</td>\n",
       "      <td>AP - The Cassini spacecraft's close flyby of S...</td>\n",
       "      <td>Cassini Craft Spies Saturn Moon Dione (AP) AP ...</td>\n",
       "      <td>4</td>\n",
       "    </tr>\n",
       "  </tbody>\n",
       "</table>\n",
       "<p>50000 rows × 5 columns</p>\n",
       "</div>"
      ],
      "text/plain": [
       "               id                                            title   \n",
       "0      NEWS_10000                    Yahoo! buys email search firm  \\\n",
       "1      NEWS_10001                   MCI reports \\$3.4 billion loss   \n",
       "2      NEWS_10002         Musharraf #39;s choice elected as new PM   \n",
       "3      NEWS_10003  Mozilla launching second act with e-mail client   \n",
       "4      NEWS_10004                              The Power of Cities   \n",
       "...           ...                                              ...   \n",
       "49995  NEWS_59995   Dolphins Break Through, Rip Rams For First Win   \n",
       "49996  NEWS_59996             After Steep Drop, Price of Oil Rises   \n",
       "49997  NEWS_59997           Pro football: Culpepper puts on a show   \n",
       "49998  NEWS_59998                        Albertsons on the Rebound   \n",
       "49999  NEWS_59999       Cassini Craft Spies Saturn Moon Dione (AP)   \n",
       "\n",
       "                                                contents   \n",
       "0      Yahoo! Inc has bought Stata Labs Inc, maker of...  \\\n",
       "1      WASHINGTON - MCI Inc. on Thursday reported a \\...   \n",
       "2      Pakistan #39;s parliament elected Shaukat Aziz...   \n",
       "3      Editor #39;s Summary: The Mozilla Foundation h...   \n",
       "4      //www.huffingtonpost.com/entry/the-power-of-ci...   \n",
       "...                                                  ...   \n",
       "49995  But that #39;s OK. Because after a 31-14 rout ...   \n",
       "49996  The freefall in oil prices ended Monday on a s...   \n",
       "49997  To say Daunte Culpepper was a little frustrate...   \n",
       "49998  The No. 2 grocer reports double-digit gains in...   \n",
       "49999  AP - The Cassini spacecraft's close flyby of S...   \n",
       "\n",
       "                                               full_text  predicted_category  \n",
       "0      Yahoo! buys email search firm Yahoo! Inc has b...                   4  \n",
       "1      MCI reports \\$3.4 billion loss WASHINGTON - MC...                   4  \n",
       "2      Musharraf #39;s choice elected as new PM Pakis...                   5  \n",
       "3      Mozilla launching second act with e-mail clien...                   4  \n",
       "4      The Power of Cities //www.huffingtonpost.com/e...                   2  \n",
       "...                                                  ...                 ...  \n",
       "49995  Dolphins Break Through, Rip Rams For First Win...                   3  \n",
       "49996  After Steep Drop, Price of Oil Rises The freef...                   0  \n",
       "49997  Pro football: Culpepper puts on a show To say ...                   3  \n",
       "49998  Albertsons on the Rebound The No. 2 grocer rep...                   0  \n",
       "49999  Cassini Craft Spies Saturn Moon Dione (AP) AP ...                   4  \n",
       "\n",
       "[50000 rows x 5 columns]"
      ]
     },
     "execution_count": 13,
     "metadata": {},
     "output_type": "execute_result"
    }
   ],
   "source": [
    "test_data"
   ]
  },
  {
   "cell_type": "code",
   "execution_count": 23,
   "metadata": {},
   "outputs": [
    {
     "name": "stderr",
     "output_type": "stream",
     "text": [
      "C:\\Users\\User\\AppData\\Local\\Temp\\ipykernel_29156\\2990617925.py:4: SettingWithCopyWarning: \n",
      "A value is trying to be set on a copy of a slice from a DataFrame.\n",
      "Try using .loc[row_indexer,col_indexer] = value instead\n",
      "\n",
      "See the caveats in the documentation: https://pandas.pydata.org/pandas-docs/stable/user_guide/indexing.html#returning-a-view-versus-a-copy\n",
      "  submission1['category'] = train_data['category']\n",
      "C:\\Users\\User\\AppData\\Local\\Temp\\ipykernel_29156\\2990617925.py:5: SettingWithCopyWarning: \n",
      "A value is trying to be set on a copy of a slice from a DataFrame.\n",
      "Try using .loc[row_indexer,col_indexer] = value instead\n",
      "\n",
      "See the caveats in the documentation: https://pandas.pydata.org/pandas-docs/stable/user_guide/indexing.html#returning-a-view-versus-a-copy\n",
      "  submission2['category'] = predictions\n"
     ]
    },
    {
     "data": {
      "text/html": [
       "<div>\n",
       "<style scoped>\n",
       "    .dataframe tbody tr th:only-of-type {\n",
       "        vertical-align: middle;\n",
       "    }\n",
       "\n",
       "    .dataframe tbody tr th {\n",
       "        vertical-align: top;\n",
       "    }\n",
       "\n",
       "    .dataframe thead th {\n",
       "        text-align: right;\n",
       "    }\n",
       "</style>\n",
       "<table border=\"1\" class=\"dataframe\">\n",
       "  <thead>\n",
       "    <tr style=\"text-align: right;\">\n",
       "      <th></th>\n",
       "      <th>id</th>\n",
       "      <th>category</th>\n",
       "    </tr>\n",
       "  </thead>\n",
       "  <tbody>\n",
       "    <tr>\n",
       "      <th>0</th>\n",
       "      <td>NEWS_00000</td>\n",
       "      <td>3</td>\n",
       "    </tr>\n",
       "    <tr>\n",
       "      <th>1</th>\n",
       "      <td>NEWS_00001</td>\n",
       "      <td>1</td>\n",
       "    </tr>\n",
       "    <tr>\n",
       "      <th>2</th>\n",
       "      <td>NEWS_00002</td>\n",
       "      <td>1</td>\n",
       "    </tr>\n",
       "    <tr>\n",
       "      <th>3</th>\n",
       "      <td>NEWS_00003</td>\n",
       "      <td>4</td>\n",
       "    </tr>\n",
       "    <tr>\n",
       "      <th>4</th>\n",
       "      <td>NEWS_00004</td>\n",
       "      <td>4</td>\n",
       "    </tr>\n",
       "    <tr>\n",
       "      <th>...</th>\n",
       "      <td>...</td>\n",
       "      <td>...</td>\n",
       "    </tr>\n",
       "    <tr>\n",
       "      <th>59995</th>\n",
       "      <td>NEWS_59995</td>\n",
       "      <td>3</td>\n",
       "    </tr>\n",
       "    <tr>\n",
       "      <th>59996</th>\n",
       "      <td>NEWS_59996</td>\n",
       "      <td>0</td>\n",
       "    </tr>\n",
       "    <tr>\n",
       "      <th>59997</th>\n",
       "      <td>NEWS_59997</td>\n",
       "      <td>3</td>\n",
       "    </tr>\n",
       "    <tr>\n",
       "      <th>59998</th>\n",
       "      <td>NEWS_59998</td>\n",
       "      <td>0</td>\n",
       "    </tr>\n",
       "    <tr>\n",
       "      <th>59999</th>\n",
       "      <td>NEWS_59999</td>\n",
       "      <td>4</td>\n",
       "    </tr>\n",
       "  </tbody>\n",
       "</table>\n",
       "<p>60000 rows × 2 columns</p>\n",
       "</div>"
      ],
      "text/plain": [
       "               id  category\n",
       "0      NEWS_00000         3\n",
       "1      NEWS_00001         1\n",
       "2      NEWS_00002         1\n",
       "3      NEWS_00003         4\n",
       "4      NEWS_00004         4\n",
       "...           ...       ...\n",
       "59995  NEWS_59995         3\n",
       "59996  NEWS_59996         0\n",
       "59997  NEWS_59997         3\n",
       "59998  NEWS_59998         0\n",
       "59999  NEWS_59999         4\n",
       "\n",
       "[60000 rows x 2 columns]"
      ]
     },
     "execution_count": 23,
     "metadata": {},
     "output_type": "execute_result"
    }
   ],
   "source": [
    "submission = pd.read_csv(\"./sample_submission.csv\")\n",
    "submission1 = submission.head(10000)\n",
    "submission2 = submission.tail(50000)\n",
    "submission1['category'] = train_data['category']\n",
    "submission2['category'] = predictions\n",
    "submission3 = pd.concat([submission1, submission2], axis=0)\n",
    "submission3"
   ]
  },
  {
   "cell_type": "code",
   "execution_count": 24,
   "metadata": {},
   "outputs": [],
   "source": [
    "submission3.to_csv(\"submit_roberta_large_2epochs_news8.csv\", index=False)"
   ]
  }
 ],
 "metadata": {
  "kernelspec": {
   "display_name": "Python 3.8.13 ('torch_new')",
   "language": "python",
   "name": "python3"
  },
  "language_info": {
   "codemirror_mode": {
    "name": "ipython",
    "version": 3
   },
   "file_extension": ".py",
   "mimetype": "text/x-python",
   "name": "python",
   "nbconvert_exporter": "python",
   "pygments_lexer": "ipython3",
   "version": "3.8.13"
  },
  "orig_nbformat": 4,
  "vscode": {
   "interpreter": {
    "hash": "dcc704823a757e1539f5a43af79350a02135e44c06252b04666ddd79fc40e3cd"
   }
  }
 },
 "nbformat": 4,
 "nbformat_minor": 2
}
